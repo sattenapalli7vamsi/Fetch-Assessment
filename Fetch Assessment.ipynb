{
 "cells": [
  {
   "cell_type": "code",
   "execution_count": 1,
   "id": "1488a4cd-a3f3-411d-aefc-3442e889898c",
   "metadata": {},
   "outputs": [],
   "source": [
    "import pandas as pd"
   ]
  },
  {
   "cell_type": "code",
   "execution_count": 2,
   "id": "d5d22b12-1174-425e-8908-938d987bf84b",
   "metadata": {},
   "outputs": [],
   "source": [
    "import numpy as np"
   ]
  },
  {
   "cell_type": "code",
   "execution_count": 3,
   "id": "d956ed8c-1df2-4673-b25a-eb8d7bfd2ce5",
   "metadata": {},
   "outputs": [],
   "source": [
    "data = pd.read_json('Desktop/receipts.json', lines=True)"
   ]
  },
  {
   "cell_type": "code",
   "execution_count": 4,
   "id": "13eb7108-1c7e-422d-8b1e-90a4bc5c5cad",
   "metadata": {},
   "outputs": [
    {
     "name": "stdout",
     "output_type": "stream",
     "text": [
      "                                       _id  bonusPointsEarned  \\\n",
      "0     {'$oid': '5ff1e1eb0a720f0523000575'}              500.0   \n",
      "1     {'$oid': '5ff1e1bb0a720f052300056b'}              150.0   \n",
      "2     {'$oid': '5ff1e1f10a720f052300057a'}                5.0   \n",
      "3     {'$oid': '5ff1e1ee0a7214ada100056f'}                5.0   \n",
      "4     {'$oid': '5ff1e1d20a7214ada1000561'}                5.0   \n",
      "...                                    ...                ...   \n",
      "1114  {'$oid': '603cc0630a720fde100003e6'}               25.0   \n",
      "1115  {'$oid': '603d0b710a720fde1000042a'}                NaN   \n",
      "1116  {'$oid': '603cf5290a720fde10000413'}                NaN   \n",
      "1117  {'$oid': '603ce7100a7217c72c000405'}               25.0   \n",
      "1118  {'$oid': '603c4fea0a7217c72c000389'}                NaN   \n",
      "\n",
      "                                bonusPointsEarnedReason  \\\n",
      "0     Receipt number 2 completed, bonus point schedu...   \n",
      "1     Receipt number 5 completed, bonus point schedu...   \n",
      "2                            All-receipts receipt bonus   \n",
      "3                            All-receipts receipt bonus   \n",
      "4                            All-receipts receipt bonus   \n",
      "...                                                 ...   \n",
      "1114                        COMPLETE_NONPARTNER_RECEIPT   \n",
      "1115                                                NaN   \n",
      "1116                                                NaN   \n",
      "1117                        COMPLETE_NONPARTNER_RECEIPT   \n",
      "1118                                                NaN   \n",
      "\n",
      "                    createDate               dateScanned  \\\n",
      "0     {'$date': 1609687531000}  {'$date': 1609687531000}   \n",
      "1     {'$date': 1609687483000}  {'$date': 1609687483000}   \n",
      "2     {'$date': 1609687537000}  {'$date': 1609687537000}   \n",
      "3     {'$date': 1609687534000}  {'$date': 1609687534000}   \n",
      "4     {'$date': 1609687506000}  {'$date': 1609687506000}   \n",
      "...                        ...                       ...   \n",
      "1114  {'$date': 1614594147000}  {'$date': 1614594147000}   \n",
      "1115  {'$date': 1614613361873}  {'$date': 1614613361873}   \n",
      "1116  {'$date': 1614607657664}  {'$date': 1614607657664}   \n",
      "1117  {'$date': 1614604048000}  {'$date': 1614604048000}   \n",
      "1118  {'$date': 1614565354962}  {'$date': 1614565354962}   \n",
      "\n",
      "                  finishedDate                modifyDate  \\\n",
      "0     {'$date': 1609687531000}  {'$date': 1609687536000}   \n",
      "1     {'$date': 1609687483000}  {'$date': 1609687488000}   \n",
      "2                          NaN  {'$date': 1609687542000}   \n",
      "3     {'$date': 1609687534000}  {'$date': 1609687539000}   \n",
      "4     {'$date': 1609687511000}  {'$date': 1609687511000}   \n",
      "...                        ...                       ...   \n",
      "1114                       NaN  {'$date': 1614594148000}   \n",
      "1115                       NaN  {'$date': 1614613361873}   \n",
      "1116                       NaN  {'$date': 1614607657664}   \n",
      "1117                       NaN  {'$date': 1614604049000}   \n",
      "1118                       NaN  {'$date': 1614565354962}   \n",
      "\n",
      "             pointsAwardedDate  pointsEarned              purchaseDate  \\\n",
      "0     {'$date': 1609687531000}         500.0  {'$date': 1609632000000}   \n",
      "1     {'$date': 1609687483000}         150.0  {'$date': 1609601083000}   \n",
      "2                          NaN           5.0  {'$date': 1609632000000}   \n",
      "3     {'$date': 1609687534000}           5.0  {'$date': 1609632000000}   \n",
      "4     {'$date': 1609687506000}           5.0  {'$date': 1609601106000}   \n",
      "...                        ...           ...                       ...   \n",
      "1114                       NaN          25.0  {'$date': 1597622400000}   \n",
      "1115                       NaN           NaN                       NaN   \n",
      "1116                       NaN           NaN                       NaN   \n",
      "1117                       NaN          25.0  {'$date': 1597622400000}   \n",
      "1118                       NaN           NaN                       NaN   \n",
      "\n",
      "      purchasedItemCount                             rewardsReceiptItemList  \\\n",
      "0                    5.0  [{'barcode': '4011', 'description': 'ITEM NOT ...   \n",
      "1                    2.0  [{'barcode': '4011', 'description': 'ITEM NOT ...   \n",
      "2                    1.0  [{'needsFetchReview': False, 'partnerItemId': ...   \n",
      "3                    4.0  [{'barcode': '4011', 'description': 'ITEM NOT ...   \n",
      "4                    2.0  [{'barcode': '4011', 'description': 'ITEM NOT ...   \n",
      "...                  ...                                                ...   \n",
      "1114                 2.0  [{'barcode': 'B076FJ92M4', 'description': 'mue...   \n",
      "1115                 NaN                                                NaN   \n",
      "1116                 NaN                                                NaN   \n",
      "1117                 2.0  [{'barcode': 'B076FJ92M4', 'description': 'mue...   \n",
      "1118                 NaN                                                NaN   \n",
      "\n",
      "     rewardsReceiptStatus  totalSpent                    userId  \n",
      "0                FINISHED       26.00  5ff1e1eacfcf6c399c274ae6  \n",
      "1                FINISHED       11.00  5ff1e194b6a9d73a3a9f1052  \n",
      "2                REJECTED       10.00  5ff1e1f1cfcf6c399c274b0b  \n",
      "3                FINISHED       28.00  5ff1e1eacfcf6c399c274ae6  \n",
      "4                FINISHED        1.00  5ff1e194b6a9d73a3a9f1052  \n",
      "...                   ...         ...                       ...  \n",
      "1114             REJECTED       34.96  5fc961c3b8cfca11a077dd33  \n",
      "1115            SUBMITTED         NaN  5fc961c3b8cfca11a077dd33  \n",
      "1116            SUBMITTED         NaN  5fc961c3b8cfca11a077dd33  \n",
      "1117             REJECTED       34.96  5fc961c3b8cfca11a077dd33  \n",
      "1118            SUBMITTED         NaN  5fc961c3b8cfca11a077dd33  \n",
      "\n",
      "[1119 rows x 15 columns]\n"
     ]
    }
   ],
   "source": [
    "print(data)"
   ]
  },
  {
   "cell_type": "code",
   "execution_count": 5,
   "id": "42844b03-4fe0-4eb3-98e3-b48117ebef7b",
   "metadata": {},
   "outputs": [
    {
     "data": {
      "text/plain": [
       "_id                        1119\n",
       "bonusPointsEarned           544\n",
       "bonusPointsEarnedReason     544\n",
       "createDate                 1119\n",
       "dateScanned                1119\n",
       "finishedDate                568\n",
       "modifyDate                 1119\n",
       "pointsAwardedDate           537\n",
       "pointsEarned                609\n",
       "purchaseDate                671\n",
       "purchasedItemCount          635\n",
       "rewardsReceiptItemList      679\n",
       "rewardsReceiptStatus       1119\n",
       "totalSpent                  684\n",
       "userId                     1119\n",
       "dtype: int64"
      ]
     },
     "execution_count": 5,
     "metadata": {},
     "output_type": "execute_result"
    }
   ],
   "source": [
    "data.count()"
   ]
  },
  {
   "cell_type": "code",
   "execution_count": 6,
   "id": "98f966be-1172-4c71-9294-f266c4c2b948",
   "metadata": {},
   "outputs": [
    {
     "data": {
      "text/plain": [
       "_id                          0\n",
       "bonusPointsEarned          575\n",
       "bonusPointsEarnedReason    575\n",
       "createDate                   0\n",
       "dateScanned                  0\n",
       "finishedDate               551\n",
       "modifyDate                   0\n",
       "pointsAwardedDate          582\n",
       "pointsEarned               510\n",
       "purchaseDate               448\n",
       "purchasedItemCount         484\n",
       "rewardsReceiptItemList     440\n",
       "rewardsReceiptStatus         0\n",
       "totalSpent                 435\n",
       "userId                       0\n",
       "dtype: int64"
      ]
     },
     "execution_count": 6,
     "metadata": {},
     "output_type": "execute_result"
    }
   ],
   "source": [
    "data.isna().sum()"
   ]
  },
  {
   "cell_type": "code",
   "execution_count": 7,
   "id": "cbd845be-f4b8-49fe-a2d9-c6f4360e79cb",
   "metadata": {},
   "outputs": [
    {
     "name": "stdout",
     "output_type": "stream",
     "text": [
      "<class 'pandas.core.series.Series'>\n"
     ]
    }
   ],
   "source": [
    "data['extracted_id'] = pd.DataFrame(data['_id'].apply(lambda x: x['$oid']))\n",
    "print(type(data['extracted_id']))"
   ]
  },
  {
   "cell_type": "code",
   "execution_count": 8,
   "id": "4ef4c3db-a8e3-4dc1-b094-d2ecb61dd9cd",
   "metadata": {},
   "outputs": [
    {
     "data": {
      "text/plain": [
       "1119"
      ]
     },
     "execution_count": 8,
     "metadata": {},
     "output_type": "execute_result"
    }
   ],
   "source": [
    "data['extracted_id'].count()"
   ]
  },
  {
   "cell_type": "code",
   "execution_count": 9,
   "id": "051ee109-1cef-47db-89b4-bdd96e27a4fe",
   "metadata": {},
   "outputs": [
    {
     "name": "stdout",
     "output_type": "stream",
     "text": [
      "1119\n"
     ]
    }
   ],
   "source": [
    "distinct_id = data['extracted_id'].unique().size\n",
    "print(distinct_id)"
   ]
  },
  {
   "cell_type": "code",
   "execution_count": 10,
   "id": "41059bb1-ff3c-4846-8886-935836ae2a70",
   "metadata": {},
   "outputs": [],
   "source": [
    "rewards_receipts_item_df = pd.DataFrame(data['rewardsReceiptItemList'])"
   ]
  },
  {
   "cell_type": "code",
   "execution_count": 11,
   "id": "6c5755d1-61ef-484c-9604-ac640f2ad8a9",
   "metadata": {},
   "outputs": [
    {
     "name": "stdout",
     "output_type": "stream",
     "text": [
      "<class 'pandas.core.frame.DataFrame'>\n"
     ]
    }
   ],
   "source": [
    "print(type(rewards_receipts_item_df))"
   ]
  },
  {
   "cell_type": "code",
   "execution_count": 12,
   "id": "251e8139-d6c3-4b2b-89fc-99d9f87ea12b",
   "metadata": {},
   "outputs": [
    {
     "data": {
      "text/html": [
       "<div>\n",
       "<style scoped>\n",
       "    .dataframe tbody tr th:only-of-type {\n",
       "        vertical-align: middle;\n",
       "    }\n",
       "\n",
       "    .dataframe tbody tr th {\n",
       "        vertical-align: top;\n",
       "    }\n",
       "\n",
       "    .dataframe thead th {\n",
       "        text-align: right;\n",
       "    }\n",
       "</style>\n",
       "<table border=\"1\" class=\"dataframe\">\n",
       "  <thead>\n",
       "    <tr style=\"text-align: right;\">\n",
       "      <th></th>\n",
       "      <th>rewardsReceiptItemList</th>\n",
       "    </tr>\n",
       "  </thead>\n",
       "  <tbody>\n",
       "    <tr>\n",
       "      <th>0</th>\n",
       "      <td>[{'barcode': '4011', 'description': 'ITEM NOT ...</td>\n",
       "    </tr>\n",
       "    <tr>\n",
       "      <th>1</th>\n",
       "      <td>[{'barcode': '4011', 'description': 'ITEM NOT ...</td>\n",
       "    </tr>\n",
       "    <tr>\n",
       "      <th>2</th>\n",
       "      <td>[{'needsFetchReview': False, 'partnerItemId': ...</td>\n",
       "    </tr>\n",
       "    <tr>\n",
       "      <th>3</th>\n",
       "      <td>[{'barcode': '4011', 'description': 'ITEM NOT ...</td>\n",
       "    </tr>\n",
       "    <tr>\n",
       "      <th>4</th>\n",
       "      <td>[{'barcode': '4011', 'description': 'ITEM NOT ...</td>\n",
       "    </tr>\n",
       "    <tr>\n",
       "      <th>5</th>\n",
       "      <td>[{'barcode': '4011', 'description': 'ITEM NOT ...</td>\n",
       "    </tr>\n",
       "    <tr>\n",
       "      <th>6</th>\n",
       "      <td>[{'brandCode': 'MISSION', 'competitorRewardsGr...</td>\n",
       "    </tr>\n",
       "    <tr>\n",
       "      <th>7</th>\n",
       "      <td>[{'barcode': '046000832517', 'brandCode': 'BRA...</td>\n",
       "    </tr>\n",
       "    <tr>\n",
       "      <th>8</th>\n",
       "      <td>[{'barcode': '4011', 'description': 'ITEM NOT ...</td>\n",
       "    </tr>\n",
       "    <tr>\n",
       "      <th>9</th>\n",
       "      <td>[{'barcode': '4011', 'description': 'ITEM NOT ...</td>\n",
       "    </tr>\n",
       "  </tbody>\n",
       "</table>\n",
       "</div>"
      ],
      "text/plain": [
       "                              rewardsReceiptItemList\n",
       "0  [{'barcode': '4011', 'description': 'ITEM NOT ...\n",
       "1  [{'barcode': '4011', 'description': 'ITEM NOT ...\n",
       "2  [{'needsFetchReview': False, 'partnerItemId': ...\n",
       "3  [{'barcode': '4011', 'description': 'ITEM NOT ...\n",
       "4  [{'barcode': '4011', 'description': 'ITEM NOT ...\n",
       "5  [{'barcode': '4011', 'description': 'ITEM NOT ...\n",
       "6  [{'brandCode': 'MISSION', 'competitorRewardsGr...\n",
       "7  [{'barcode': '046000832517', 'brandCode': 'BRA...\n",
       "8  [{'barcode': '4011', 'description': 'ITEM NOT ...\n",
       "9  [{'barcode': '4011', 'description': 'ITEM NOT ..."
      ]
     },
     "execution_count": 12,
     "metadata": {},
     "output_type": "execute_result"
    }
   ],
   "source": [
    "rewards_receipts_item_df.head(10)"
   ]
  },
  {
   "cell_type": "code",
   "execution_count": 13,
   "id": "e65263e8-e11e-4979-a11e-260dba1a975f",
   "metadata": {},
   "outputs": [
    {
     "name": "stdout",
     "output_type": "stream",
     "text": [
      "Number of records with a barcode: 593\n"
     ]
    }
   ],
   "source": [
    "# Count of records with 'barcode'\n",
    "def has_barcode(item_list):\n",
    "    if isinstance(item_list, list):  # Checking if it's a list (avoid NaN)\n",
    "        for item in item_list: \n",
    "            if isinstance(item, dict) and 'barcode' in item:\n",
    "                return True\n",
    "    return False\n",
    "\n",
    "barcode_count = rewards_receipts_item_df['rewardsReceiptItemList'].apply(has_barcode).sum()\n",
    "\n",
    "print(f\"Number of records with a barcode: {barcode_count}\")"
   ]
  },
  {
   "cell_type": "code",
   "execution_count": 14,
   "id": "86bedae5-8d21-446a-ad3b-cb54b6a3c828",
   "metadata": {},
   "outputs": [],
   "source": [
    "flattened_data = rewards_receipts_item_df['rewardsReceiptItemList'].explode()"
   ]
  },
  {
   "cell_type": "code",
   "execution_count": 15,
   "id": "f4b16c45-09d6-4700-9347-2b7054aab6ec",
   "metadata": {},
   "outputs": [
    {
     "data": {
      "text/plain": [
       "0       {'barcode': '4011', 'description': 'ITEM NOT F...\n",
       "1       {'barcode': '4011', 'description': 'ITEM NOT F...\n",
       "1       {'barcode': '028400642255', 'description': 'DO...\n",
       "2       {'needsFetchReview': False, 'partnerItemId': '...\n",
       "3       {'barcode': '4011', 'description': 'ITEM NOT F...\n",
       "                              ...                        \n",
       "1115                                                  NaN\n",
       "1116                                                  NaN\n",
       "1117    {'barcode': 'B076FJ92M4', 'description': 'muel...\n",
       "1117    {'barcode': 'B07BRRLSVC', 'description': 'thin...\n",
       "1118                                                  NaN\n",
       "Name: rewardsReceiptItemList, Length: 7381, dtype: object"
      ]
     },
     "execution_count": 15,
     "metadata": {},
     "output_type": "execute_result"
    }
   ],
   "source": [
    "flattened_data"
   ]
  },
  {
   "cell_type": "code",
   "execution_count": 16,
   "id": "f2e5a9d9-4a52-4c4c-ab87-4f7b2fb07a69",
   "metadata": {},
   "outputs": [
    {
     "name": "stdout",
     "output_type": "stream",
     "text": [
      "Number of records with a barcode (including 'ITEM NOT FOUND'): 3090\n"
     ]
    }
   ],
   "source": [
    "# Count all barcodes (including 'ITEM NOT FOUND')\n",
    "barcode_present_count = flattened_data.apply(\n",
    "    lambda x: isinstance(x, dict) and 'barcode' in x\n",
    ").sum()\n",
    "\n",
    "print(f\"Number of records with a barcode (including 'ITEM NOT FOUND'): {barcode_present_count}\")\n"
   ]
  },
  {
   "cell_type": "code",
   "execution_count": 17,
   "id": "93dfe375-a5d6-4324-ae89-c18ea3d83db9",
   "metadata": {},
   "outputs": [],
   "source": [
    "user_data = pd.read_json('Desktop/users.json', lines=True)"
   ]
  },
  {
   "cell_type": "code",
   "execution_count": 18,
   "id": "69076b54-4323-47a0-8848-c7cce4a08831",
   "metadata": {},
   "outputs": [
    {
     "data": {
      "text/html": [
       "<div>\n",
       "<style scoped>\n",
       "    .dataframe tbody tr th:only-of-type {\n",
       "        vertical-align: middle;\n",
       "    }\n",
       "\n",
       "    .dataframe tbody tr th {\n",
       "        vertical-align: top;\n",
       "    }\n",
       "\n",
       "    .dataframe thead th {\n",
       "        text-align: right;\n",
       "    }\n",
       "</style>\n",
       "<table border=\"1\" class=\"dataframe\">\n",
       "  <thead>\n",
       "    <tr style=\"text-align: right;\">\n",
       "      <th></th>\n",
       "      <th>_id</th>\n",
       "      <th>active</th>\n",
       "      <th>createdDate</th>\n",
       "      <th>lastLogin</th>\n",
       "      <th>role</th>\n",
       "      <th>signUpSource</th>\n",
       "      <th>state</th>\n",
       "    </tr>\n",
       "  </thead>\n",
       "  <tbody>\n",
       "    <tr>\n",
       "      <th>0</th>\n",
       "      <td>{'$oid': '5ff1e194b6a9d73a3a9f1052'}</td>\n",
       "      <td>True</td>\n",
       "      <td>{'$date': 1609687444800}</td>\n",
       "      <td>{'$date': 1609687537858}</td>\n",
       "      <td>consumer</td>\n",
       "      <td>Email</td>\n",
       "      <td>WI</td>\n",
       "    </tr>\n",
       "    <tr>\n",
       "      <th>1</th>\n",
       "      <td>{'$oid': '5ff1e194b6a9d73a3a9f1052'}</td>\n",
       "      <td>True</td>\n",
       "      <td>{'$date': 1609687444800}</td>\n",
       "      <td>{'$date': 1609687537858}</td>\n",
       "      <td>consumer</td>\n",
       "      <td>Email</td>\n",
       "      <td>WI</td>\n",
       "    </tr>\n",
       "    <tr>\n",
       "      <th>2</th>\n",
       "      <td>{'$oid': '5ff1e194b6a9d73a3a9f1052'}</td>\n",
       "      <td>True</td>\n",
       "      <td>{'$date': 1609687444800}</td>\n",
       "      <td>{'$date': 1609687537858}</td>\n",
       "      <td>consumer</td>\n",
       "      <td>Email</td>\n",
       "      <td>WI</td>\n",
       "    </tr>\n",
       "    <tr>\n",
       "      <th>3</th>\n",
       "      <td>{'$oid': '5ff1e1eacfcf6c399c274ae6'}</td>\n",
       "      <td>True</td>\n",
       "      <td>{'$date': 1609687530554}</td>\n",
       "      <td>{'$date': 1609687530597}</td>\n",
       "      <td>consumer</td>\n",
       "      <td>Email</td>\n",
       "      <td>WI</td>\n",
       "    </tr>\n",
       "    <tr>\n",
       "      <th>4</th>\n",
       "      <td>{'$oid': '5ff1e194b6a9d73a3a9f1052'}</td>\n",
       "      <td>True</td>\n",
       "      <td>{'$date': 1609687444800}</td>\n",
       "      <td>{'$date': 1609687537858}</td>\n",
       "      <td>consumer</td>\n",
       "      <td>Email</td>\n",
       "      <td>WI</td>\n",
       "    </tr>\n",
       "    <tr>\n",
       "      <th>...</th>\n",
       "      <td>...</td>\n",
       "      <td>...</td>\n",
       "      <td>...</td>\n",
       "      <td>...</td>\n",
       "      <td>...</td>\n",
       "      <td>...</td>\n",
       "      <td>...</td>\n",
       "    </tr>\n",
       "    <tr>\n",
       "      <th>490</th>\n",
       "      <td>{'$oid': '54943462e4b07e684157a532'}</td>\n",
       "      <td>True</td>\n",
       "      <td>{'$date': 1418998882381}</td>\n",
       "      <td>{'$date': 1614963143204}</td>\n",
       "      <td>fetch-staff</td>\n",
       "      <td>NaN</td>\n",
       "      <td>NaN</td>\n",
       "    </tr>\n",
       "    <tr>\n",
       "      <th>491</th>\n",
       "      <td>{'$oid': '54943462e4b07e684157a532'}</td>\n",
       "      <td>True</td>\n",
       "      <td>{'$date': 1418998882381}</td>\n",
       "      <td>{'$date': 1614963143204}</td>\n",
       "      <td>fetch-staff</td>\n",
       "      <td>NaN</td>\n",
       "      <td>NaN</td>\n",
       "    </tr>\n",
       "    <tr>\n",
       "      <th>492</th>\n",
       "      <td>{'$oid': '54943462e4b07e684157a532'}</td>\n",
       "      <td>True</td>\n",
       "      <td>{'$date': 1418998882381}</td>\n",
       "      <td>{'$date': 1614963143204}</td>\n",
       "      <td>fetch-staff</td>\n",
       "      <td>NaN</td>\n",
       "      <td>NaN</td>\n",
       "    </tr>\n",
       "    <tr>\n",
       "      <th>493</th>\n",
       "      <td>{'$oid': '54943462e4b07e684157a532'}</td>\n",
       "      <td>True</td>\n",
       "      <td>{'$date': 1418998882381}</td>\n",
       "      <td>{'$date': 1614963143204}</td>\n",
       "      <td>fetch-staff</td>\n",
       "      <td>NaN</td>\n",
       "      <td>NaN</td>\n",
       "    </tr>\n",
       "    <tr>\n",
       "      <th>494</th>\n",
       "      <td>{'$oid': '54943462e4b07e684157a532'}</td>\n",
       "      <td>True</td>\n",
       "      <td>{'$date': 1418998882381}</td>\n",
       "      <td>{'$date': 1614963143204}</td>\n",
       "      <td>fetch-staff</td>\n",
       "      <td>NaN</td>\n",
       "      <td>NaN</td>\n",
       "    </tr>\n",
       "  </tbody>\n",
       "</table>\n",
       "<p>495 rows × 7 columns</p>\n",
       "</div>"
      ],
      "text/plain": [
       "                                      _id  active               createdDate  \\\n",
       "0    {'$oid': '5ff1e194b6a9d73a3a9f1052'}    True  {'$date': 1609687444800}   \n",
       "1    {'$oid': '5ff1e194b6a9d73a3a9f1052'}    True  {'$date': 1609687444800}   \n",
       "2    {'$oid': '5ff1e194b6a9d73a3a9f1052'}    True  {'$date': 1609687444800}   \n",
       "3    {'$oid': '5ff1e1eacfcf6c399c274ae6'}    True  {'$date': 1609687530554}   \n",
       "4    {'$oid': '5ff1e194b6a9d73a3a9f1052'}    True  {'$date': 1609687444800}   \n",
       "..                                    ...     ...                       ...   \n",
       "490  {'$oid': '54943462e4b07e684157a532'}    True  {'$date': 1418998882381}   \n",
       "491  {'$oid': '54943462e4b07e684157a532'}    True  {'$date': 1418998882381}   \n",
       "492  {'$oid': '54943462e4b07e684157a532'}    True  {'$date': 1418998882381}   \n",
       "493  {'$oid': '54943462e4b07e684157a532'}    True  {'$date': 1418998882381}   \n",
       "494  {'$oid': '54943462e4b07e684157a532'}    True  {'$date': 1418998882381}   \n",
       "\n",
       "                    lastLogin         role signUpSource state  \n",
       "0    {'$date': 1609687537858}     consumer        Email    WI  \n",
       "1    {'$date': 1609687537858}     consumer        Email    WI  \n",
       "2    {'$date': 1609687537858}     consumer        Email    WI  \n",
       "3    {'$date': 1609687530597}     consumer        Email    WI  \n",
       "4    {'$date': 1609687537858}     consumer        Email    WI  \n",
       "..                        ...          ...          ...   ...  \n",
       "490  {'$date': 1614963143204}  fetch-staff          NaN   NaN  \n",
       "491  {'$date': 1614963143204}  fetch-staff          NaN   NaN  \n",
       "492  {'$date': 1614963143204}  fetch-staff          NaN   NaN  \n",
       "493  {'$date': 1614963143204}  fetch-staff          NaN   NaN  \n",
       "494  {'$date': 1614963143204}  fetch-staff          NaN   NaN  \n",
       "\n",
       "[495 rows x 7 columns]"
      ]
     },
     "execution_count": 18,
     "metadata": {},
     "output_type": "execute_result"
    }
   ],
   "source": [
    "user_data"
   ]
  },
  {
   "cell_type": "code",
   "execution_count": 19,
   "id": "62f3bf2e-3c2d-4309-b54e-168b7c738f3a",
   "metadata": {},
   "outputs": [
    {
     "name": "stdout",
     "output_type": "stream",
     "text": [
      "0      5ff1e194b6a9d73a3a9f1052\n",
      "1      5ff1e194b6a9d73a3a9f1052\n",
      "2      5ff1e194b6a9d73a3a9f1052\n",
      "3      5ff1e1eacfcf6c399c274ae6\n",
      "4      5ff1e194b6a9d73a3a9f1052\n",
      "                 ...           \n",
      "490    54943462e4b07e684157a532\n",
      "491    54943462e4b07e684157a532\n",
      "492    54943462e4b07e684157a532\n",
      "493    54943462e4b07e684157a532\n",
      "494    54943462e4b07e684157a532\n",
      "Name: _id, Length: 495, dtype: object\n"
     ]
    }
   ],
   "source": [
    "oid_values = user_data['_id'].apply(lambda x: x['$oid'])\n",
    "print(oid_values)"
   ]
  },
  {
   "cell_type": "code",
   "execution_count": 20,
   "id": "dc13c569-3a27-409c-8814-bf2412a6f44e",
   "metadata": {},
   "outputs": [
    {
     "data": {
      "text/plain": [
       "212"
      ]
     },
     "execution_count": 20,
     "metadata": {},
     "output_type": "execute_result"
    }
   ],
   "source": [
    "oid_values.unique().size"
   ]
  },
  {
   "cell_type": "code",
   "execution_count": 21,
   "id": "7c3fb979-37c0-4d36-b58b-7c6687d169e5",
   "metadata": {},
   "outputs": [],
   "source": [
    "created_date_count = user_data['createdDate'].notna().sum()"
   ]
  },
  {
   "cell_type": "code",
   "execution_count": 22,
   "id": "32e4ddfe-46b5-4594-b175-a194aeab8328",
   "metadata": {},
   "outputs": [
    {
     "data": {
      "text/plain": [
       "495"
      ]
     },
     "execution_count": 22,
     "metadata": {},
     "output_type": "execute_result"
    }
   ],
   "source": [
    "created_date_count"
   ]
  },
  {
   "cell_type": "code",
   "execution_count": 23,
   "id": "f5b55b7f-9f33-4134-b3ca-c0a0022757e2",
   "metadata": {},
   "outputs": [],
   "source": [
    "last_login_count = user_data['lastLogin'].notna().sum()"
   ]
  },
  {
   "cell_type": "code",
   "execution_count": 24,
   "id": "f688489b-bc08-4717-ba78-73e2f65f5c62",
   "metadata": {},
   "outputs": [
    {
     "data": {
      "text/plain": [
       "433"
      ]
     },
     "execution_count": 24,
     "metadata": {},
     "output_type": "execute_result"
    }
   ],
   "source": [
    "last_login_count"
   ]
  },
  {
   "cell_type": "code",
   "execution_count": 25,
   "id": "ad649c92-a733-44aa-8e9f-85f169a46047",
   "metadata": {},
   "outputs": [],
   "source": [
    "role_type = user_data['role'].dropna().unique().tolist()"
   ]
  },
  {
   "cell_type": "code",
   "execution_count": 26,
   "id": "50dba721-7d4f-4673-b3b5-f37b4b606e1d",
   "metadata": {},
   "outputs": [
    {
     "data": {
      "text/plain": [
       "['consumer', 'fetch-staff']"
      ]
     },
     "execution_count": 26,
     "metadata": {},
     "output_type": "execute_result"
    }
   ],
   "source": [
    "role_type"
   ]
  },
  {
   "cell_type": "code",
   "execution_count": null,
   "id": "93e925bc-1121-412c-91ec-968b56b57e77",
   "metadata": {},
   "outputs": [],
   "source": []
  }
 ],
 "metadata": {
  "kernelspec": {
   "display_name": "Python 3 (ipykernel)",
   "language": "python",
   "name": "python3"
  },
  "language_info": {
   "codemirror_mode": {
    "name": "ipython",
    "version": 3
   },
   "file_extension": ".py",
   "mimetype": "text/x-python",
   "name": "python",
   "nbconvert_exporter": "python",
   "pygments_lexer": "ipython3",
   "version": "3.12.1"
  }
 },
 "nbformat": 4,
 "nbformat_minor": 5
}
